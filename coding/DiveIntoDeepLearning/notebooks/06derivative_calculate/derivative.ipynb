{
 "cells": [
  {
   "cell_type": "code",
   "execution_count": 9,
   "metadata": {
    "collapsed": true
   },
   "outputs": [
    {
     "name": "stdout",
     "output_type": "stream",
     "text": [
      "tensor([[0.0482, 0.2758, 0.8618],\n",
      "        [0.7779, 0.0535, 0.0637],\n",
      "        [0.5598, 0.4697, 0.5029]])\n",
      "torch.Size([3, 3])\n",
      "(3, 1)\n",
      "tensor([[0.0482, 0.7779, 0.5598],\n",
      "        [0.2758, 0.0535, 0.4697],\n",
      "        [0.8618, 0.0637, 0.5029]])\n",
      "torch.Size([3, 3])\n",
      "(1, 3)\n"
     ]
    }
   ],
   "source": [
    "import torch\n",
    "a = torch.rand((3,3))\n",
    "print(a)\n",
    "print(a.size())\n",
    "print(a.stride())\n",
    "b = a.permute((1,0))\n",
    "print(b)\n",
    "print(b.size())\n",
    "print(b.stride())\n",
    "# now b is not contiguous"
   ]
  },
  {
   "cell_type": "code",
   "execution_count": null,
   "outputs": [],
   "source": [],
   "metadata": {
    "collapsed": false,
    "pycharm": {
     "name": "#%%\n"
    }
   }
  }
 ],
 "metadata": {
  "kernelspec": {
   "display_name": "Python 3",
   "language": "python",
   "name": "python3"
  },
  "language_info": {
   "codemirror_mode": {
    "name": "ipython",
    "version": 2
   },
   "file_extension": ".py",
   "mimetype": "text/x-python",
   "name": "python",
   "nbconvert_exporter": "python",
   "pygments_lexer": "ipython2",
   "version": "2.7.6"
  }
 },
 "nbformat": 4,
 "nbformat_minor": 0
}